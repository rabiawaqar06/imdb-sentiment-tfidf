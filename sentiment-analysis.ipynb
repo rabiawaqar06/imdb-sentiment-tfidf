{
 "cells": [
  {
   "cell_type": "code",
   "execution_count": null,
   "id": "b1a7ebf5",
   "metadata": {},
   "outputs": [
    {
     "name": "stderr",
     "output_type": "stream",
     "text": [
      "[nltk_data] Downloading package stopwords to /home/rabia/nltk_data...\n",
      "[nltk_data]   Unzipping corpora/stopwords.zip.\n",
      "[nltk_data] Downloading package punkt to /home/rabia/nltk_data...\n",
      "[nltk_data]   Package punkt is already up-to-date!\n",
      "[nltk_data] Downloading package punkt_tab to /home/rabia/nltk_data...\n",
      "[nltk_data]   Unzipping tokenizers/punkt_tab.zip.\n"
     ]
    },
    {
     "data": {
      "text/plain": [
       "True"
      ]
     },
     "execution_count": 1,
     "metadata": {},
     "output_type": "execute_result"
    }
   ],
   "source": [
    "import nltk\n",
    "nltk.download('stopwords')\n",
    "nltk.download('punkt')\n",
    "nltk.download('punkt_tab')\n",
    "\n"
   ]
  },
  {
   "cell_type": "code",
   "execution_count": 4,
   "id": "8e7d8042",
   "metadata": {},
   "outputs": [],
   "source": [
    "import pandas as pd\n",
    "import re #regular expression\n",
    "from nltk.corpus import stopwords\n",
    "from nltk.tokenize import word_tokenize\n"
   ]
  },
  {
   "cell_type": "code",
   "execution_count": 5,
   "id": "6c3aed9d",
   "metadata": {},
   "outputs": [
    {
     "name": "stdout",
     "output_type": "stream",
     "text": [
      "Collecting en-core-web-sm==3.8.0\n",
      "  Downloading https://github.com/explosion/spacy-models/releases/download/en_core_web_sm-3.8.0/en_core_web_sm-3.8.0-py3-none-any.whl (12.8 MB)\n",
      "\u001b[2K     \u001b[90m━━━━━━━━━━━━━━━━━━━━━━━━━━━━━━━━━━━━━━━━\u001b[0m \u001b[32m12.8/12.8 MB\u001b[0m \u001b[31m10.9 MB/s\u001b[0m eta \u001b[36m0:00:00\u001b[0m00:01\u001b[0m00:01\u001b[0m\n",
      "\u001b[?25h\u001b[38;5;2m✔ Download and installation successful\u001b[0m\n",
      "You can now load the package via spacy.load('en_core_web_sm')\n",
      "\u001b[38;5;3m⚠ Restart to reload dependencies\u001b[0m\n",
      "If you are in a Jupyter or Colab notebook, you may need to restart Python in\n",
      "order to load all the package's dependencies. You can do this by selecting the\n",
      "'Restart kernel' or 'Restart runtime' option.\n"
     ]
    }
   ],
   "source": [
    "#Load the small English model for spaCy\n",
    "import spacy\n",
    "spacy.cli.download(\"en_core_web_sm\")\n",
    "nlp = spacy.load(\"en_core_web_sm\")"
   ]
  },
  {
   "cell_type": "code",
   "execution_count": 7,
   "id": "3a211f04",
   "metadata": {},
   "outputs": [
    {
     "name": "stdout",
     "output_type": "stream",
     "text": [
      "First few rows of the dataset:\n"
     ]
    },
    {
     "data": {
      "text/html": [
       "<div>\n",
       "<style scoped>\n",
       "    .dataframe tbody tr th:only-of-type {\n",
       "        vertical-align: middle;\n",
       "    }\n",
       "\n",
       "    .dataframe tbody tr th {\n",
       "        vertical-align: top;\n",
       "    }\n",
       "\n",
       "    .dataframe thead th {\n",
       "        text-align: right;\n",
       "    }\n",
       "</style>\n",
       "<table border=\"1\" class=\"dataframe\">\n",
       "  <thead>\n",
       "    <tr style=\"text-align: right;\">\n",
       "      <th></th>\n",
       "      <th>review</th>\n",
       "      <th>sentiment</th>\n",
       "    </tr>\n",
       "  </thead>\n",
       "  <tbody>\n",
       "    <tr>\n",
       "      <th>0</th>\n",
       "      <td>One of the other reviewers has mentioned that after watching just 1 Oz episode you'll be hooked. They are right, as this is exactly what happened with me.&lt;br /&gt;&lt;br /&gt;The first thing that struck me about Oz was its brutality and unflinching scenes of violence, which set in right from the word GO. Trust me, this is not a show for the faint hearted or timid. This show pulls no punches with regards to drugs, sex or violence. Its is hardcore, in the classic use of the word.&lt;br /&gt;&lt;br /&gt;It is called OZ as that is the nickname given to the Oswald Maximum Security State Penitentary. It focuses mainly on Emerald City, an experimental section of the prison where all the cells have glass fronts and face inwards, so privacy is not high on the agenda. Em City is home to many..Aryans, Muslims, gangstas, Latinos, Christians, Italians, Irish and more....so scuffles, death stares, dodgy dealings and shady agreements are never far away.&lt;br /&gt;&lt;br /&gt;I would say the main appeal of the show is due to the fact that it goes where other shows wouldn't dare. Forget pretty pictures painted for mainstream audiences, forget charm, forget romance...OZ doesn't mess around. The first episode I ever saw struck me as so nasty it was surreal, I couldn't say I was ready for it, but as I watched more, I developed a taste for Oz, and got accustomed to the high levels of graphic violence. Not just violence, but injustice (crooked guards who'll be sold out for a nickel, inmates who'll kill on order and get away with it, well mannered, middle class inmates being turned into prison bitches due to their lack of street skills or prison experience) Watching Oz, you may become comfortable with what is uncomfortable viewing....thats if you can get in touch with your darker side.</td>\n",
       "      <td>positive</td>\n",
       "    </tr>\n",
       "    <tr>\n",
       "      <th>1</th>\n",
       "      <td>A wonderful little production. &lt;br /&gt;&lt;br /&gt;The filming technique is very unassuming- very old-time-BBC fashion and gives a comforting, and sometimes discomforting, sense of realism to the entire piece. &lt;br /&gt;&lt;br /&gt;The actors are extremely well chosen- Michael Sheen not only \"has got all the polari\" but he has all the voices down pat too! You can truly see the seamless editing guided by the references to Williams' diary entries, not only is it well worth the watching but it is a terrificly written and performed piece. A masterful production about one of the great master's of comedy and his life. &lt;br /&gt;&lt;br /&gt;The realism really comes home with the little things: the fantasy of the guard which, rather than use the traditional 'dream' techniques remains solid then disappears. It plays on our knowledge and our senses, particularly with the scenes concerning Orton and Halliwell and the sets (particularly of their flat with Halliwell's murals decorating every surface) are terribly well done.</td>\n",
       "      <td>positive</td>\n",
       "    </tr>\n",
       "    <tr>\n",
       "      <th>2</th>\n",
       "      <td>I thought this was a wonderful way to spend time on a too hot summer weekend, sitting in the air conditioned theater and watching a light-hearted comedy. The plot is simplistic, but the dialogue is witty and the characters are likable (even the well bread suspected serial killer). While some may be disappointed when they realize this is not Match Point 2: Risk Addiction, I thought it was proof that Woody Allen is still fully in control of the style many of us have grown to love.&lt;br /&gt;&lt;br /&gt;This was the most I'd laughed at one of Woody's comedies in years (dare I say a decade?). While I've never been impressed with Scarlet Johanson, in this she managed to tone down her \"sexy\" image and jumped right into a average, but spirited young woman.&lt;br /&gt;&lt;br /&gt;This may not be the crown jewel of his career, but it was wittier than \"Devil Wears Prada\" and more interesting than \"Superman\" a great comedy to go see with friends.</td>\n",
       "      <td>positive</td>\n",
       "    </tr>\n",
       "    <tr>\n",
       "      <th>3</th>\n",
       "      <td>Basically there's a family where a little boy (Jake) thinks there's a zombie in his closet &amp; his parents are fighting all the time.&lt;br /&gt;&lt;br /&gt;This movie is slower than a soap opera... and suddenly, Jake decides to become Rambo and kill the zombie.&lt;br /&gt;&lt;br /&gt;OK, first of all when you're going to make a film you must Decide if its a thriller or a drama! As a drama the movie is watchable. Parents are divorcing &amp; arguing like in real life. And then we have Jake with his closet which totally ruins all the film! I expected to see a BOOGEYMAN similar movie, and instead i watched a drama with some meaningless thriller spots.&lt;br /&gt;&lt;br /&gt;3 out of 10 just for the well playing parents &amp; descent dialogs. As for the shots with Jake: just ignore them.</td>\n",
       "      <td>negative</td>\n",
       "    </tr>\n",
       "    <tr>\n",
       "      <th>4</th>\n",
       "      <td>Petter Mattei's \"Love in the Time of Money\" is a visually stunning film to watch. Mr. Mattei offers us a vivid portrait about human relations. This is a movie that seems to be telling us what money, power and success do to people in the different situations we encounter. &lt;br /&gt;&lt;br /&gt;This being a variation on the Arthur Schnitzler's play about the same theme, the director transfers the action to the present time New York where all these different characters meet and connect. Each one is connected in one way, or another to the next person, but no one seems to know the previous point of contact. Stylishly, the film has a sophisticated luxurious look. We are taken to see how these people live and the world they live in their own habitat.&lt;br /&gt;&lt;br /&gt;The only thing one gets out of all these souls in the picture is the different stages of loneliness each one inhabits. A big city is not exactly the best place in which human relations find sincere fulfillment, as one discerns is the case with most of the people we encounter.&lt;br /&gt;&lt;br /&gt;The acting is good under Mr. Mattei's direction. Steve Buscemi, Rosario Dawson, Carol Kane, Michael Imperioli, Adrian Grenier, and the rest of the talented cast, make these characters come alive.&lt;br /&gt;&lt;br /&gt;We wish Mr. Mattei good luck and await anxiously for his next work.</td>\n",
       "      <td>positive</td>\n",
       "    </tr>\n",
       "  </tbody>\n",
       "</table>\n",
       "</div>"
      ],
      "text/plain": [
       "                                                                                                                                                                                                                                                                                                                                                                                                                                                                                                                                                                                                                                                                                                                                                                                                                                                                                                                                                                                                                                                                                                                                                                                                                                                                                                                                                                                                                                                                                                                                                                                                                                                                                                                                                                                                                              review  \\\n",
       "0  One of the other reviewers has mentioned that after watching just 1 Oz episode you'll be hooked. They are right, as this is exactly what happened with me.<br /><br />The first thing that struck me about Oz was its brutality and unflinching scenes of violence, which set in right from the word GO. Trust me, this is not a show for the faint hearted or timid. This show pulls no punches with regards to drugs, sex or violence. Its is hardcore, in the classic use of the word.<br /><br />It is called OZ as that is the nickname given to the Oswald Maximum Security State Penitentary. It focuses mainly on Emerald City, an experimental section of the prison where all the cells have glass fronts and face inwards, so privacy is not high on the agenda. Em City is home to many..Aryans, Muslims, gangstas, Latinos, Christians, Italians, Irish and more....so scuffles, death stares, dodgy dealings and shady agreements are never far away.<br /><br />I would say the main appeal of the show is due to the fact that it goes where other shows wouldn't dare. Forget pretty pictures painted for mainstream audiences, forget charm, forget romance...OZ doesn't mess around. The first episode I ever saw struck me as so nasty it was surreal, I couldn't say I was ready for it, but as I watched more, I developed a taste for Oz, and got accustomed to the high levels of graphic violence. Not just violence, but injustice (crooked guards who'll be sold out for a nickel, inmates who'll kill on order and get away with it, well mannered, middle class inmates being turned into prison bitches due to their lack of street skills or prison experience) Watching Oz, you may become comfortable with what is uncomfortable viewing....thats if you can get in touch with your darker side.   \n",
       "1                                                                                                                                                                                                                                                                                                                                                                                                                                                                                                                                                                                                                                                                                                                                                                                             A wonderful little production. <br /><br />The filming technique is very unassuming- very old-time-BBC fashion and gives a comforting, and sometimes discomforting, sense of realism to the entire piece. <br /><br />The actors are extremely well chosen- Michael Sheen not only \"has got all the polari\" but he has all the voices down pat too! You can truly see the seamless editing guided by the references to Williams' diary entries, not only is it well worth the watching but it is a terrificly written and performed piece. A masterful production about one of the great master's of comedy and his life. <br /><br />The realism really comes home with the little things: the fantasy of the guard which, rather than use the traditional 'dream' techniques remains solid then disappears. It plays on our knowledge and our senses, particularly with the scenes concerning Orton and Halliwell and the sets (particularly of their flat with Halliwell's murals decorating every surface) are terribly well done.   \n",
       "2                                                                                                                                                                                                                                                                                                                                                                                                                                                                                                                                                                                                                                                                                                                                                                                                                                                                     I thought this was a wonderful way to spend time on a too hot summer weekend, sitting in the air conditioned theater and watching a light-hearted comedy. The plot is simplistic, but the dialogue is witty and the characters are likable (even the well bread suspected serial killer). While some may be disappointed when they realize this is not Match Point 2: Risk Addiction, I thought it was proof that Woody Allen is still fully in control of the style many of us have grown to love.<br /><br />This was the most I'd laughed at one of Woody's comedies in years (dare I say a decade?). While I've never been impressed with Scarlet Johanson, in this she managed to tone down her \"sexy\" image and jumped right into a average, but spirited young woman.<br /><br />This may not be the crown jewel of his career, but it was wittier than \"Devil Wears Prada\" and more interesting than \"Superman\" a great comedy to go see with friends.   \n",
       "3                                                                                                                                                                                                                                                                                                                                                                                                                                                                                                                                                                                                                                                                                                                                                                                                                                                                                                                                                                                                                                                       Basically there's a family where a little boy (Jake) thinks there's a zombie in his closet & his parents are fighting all the time.<br /><br />This movie is slower than a soap opera... and suddenly, Jake decides to become Rambo and kill the zombie.<br /><br />OK, first of all when you're going to make a film you must Decide if its a thriller or a drama! As a drama the movie is watchable. Parents are divorcing & arguing like in real life. And then we have Jake with his closet which totally ruins all the film! I expected to see a BOOGEYMAN similar movie, and instead i watched a drama with some meaningless thriller spots.<br /><br />3 out of 10 just for the well playing parents & descent dialogs. As for the shots with Jake: just ignore them.   \n",
       "4                                                                                                                                                                                                                                                                                                                                                                                                                                                              Petter Mattei's \"Love in the Time of Money\" is a visually stunning film to watch. Mr. Mattei offers us a vivid portrait about human relations. This is a movie that seems to be telling us what money, power and success do to people in the different situations we encounter. <br /><br />This being a variation on the Arthur Schnitzler's play about the same theme, the director transfers the action to the present time New York where all these different characters meet and connect. Each one is connected in one way, or another to the next person, but no one seems to know the previous point of contact. Stylishly, the film has a sophisticated luxurious look. We are taken to see how these people live and the world they live in their own habitat.<br /><br />The only thing one gets out of all these souls in the picture is the different stages of loneliness each one inhabits. A big city is not exactly the best place in which human relations find sincere fulfillment, as one discerns is the case with most of the people we encounter.<br /><br />The acting is good under Mr. Mattei's direction. Steve Buscemi, Rosario Dawson, Carol Kane, Michael Imperioli, Adrian Grenier, and the rest of the talented cast, make these characters come alive.<br /><br />We wish Mr. Mattei good luck and await anxiously for his next work.   \n",
       "\n",
       "  sentiment  \n",
       "0  positive  \n",
       "1  positive  \n",
       "2  positive  \n",
       "3  negative  \n",
       "4  positive  "
      ]
     },
     "metadata": {},
     "output_type": "display_data"
    }
   ],
   "source": [
    "#Set Pandas to display full text for better inspection\n",
    "pd.set_option('display.max_colwidth', None)\n",
    "\n",
    "#load the dataset from the csv file\n",
    "try:\n",
    "    df = pd.read_csv('IMDB Dataset.csv')\n",
    "except FileNotFoundError:\n",
    "    print(\"Error: The file 'IMDB Dataset.csv' was not found.\")\n",
    "    exit()\n",
    "\n",
    "#Display the first few rows of the dataset\n",
    "print(\"First few rows of the dataset:\")\n",
    "display(df.head())"
   ]
  },
  {
   "cell_type": "code",
   "execution_count": 10,
   "id": "913be2cb",
   "metadata": {},
   "outputs": [
    {
     "name": "stdout",
     "output_type": "stream",
     "text": [
      "\n",
      "Dataset Information:\n",
      "<class 'pandas.core.frame.DataFrame'>\n",
      "RangeIndex: 50000 entries, 0 to 49999\n",
      "Data columns (total 2 columns):\n",
      " #   Column     Non-Null Count  Dtype \n",
      "---  ------     --------------  ----- \n",
      " 0   review     50000 non-null  object\n",
      " 1   sentiment  50000 non-null  object\n",
      "dtypes: object(2)\n",
      "memory usage: 781.4+ KB\n"
     ]
    }
   ],
   "source": [
    "print(\"\\nDataset Information:\")\n",
    "df.info()"
   ]
  },
  {
   "cell_type": "code",
   "execution_count": 11,
   "id": "239f83a7",
   "metadata": {},
   "outputs": [
    {
     "name": "stdout",
     "output_type": "stream",
     "text": [
      "\n",
      "Sentiment Distribution:\n",
      "sentiment\n",
      "positive    25000\n",
      "negative    25000\n",
      "Name: count, dtype: int64\n"
     ]
    }
   ],
   "source": [
    "print(\"\\nSentiment Distribution:\")\n",
    "print(df['sentiment'].value_counts())"
   ]
  },
  {
   "cell_type": "code",
   "execution_count": 12,
   "id": "6dafb9b1",
   "metadata": {},
   "outputs": [
    {
     "data": {
      "text/plain": [
       "{'a',\n",
       " 'about',\n",
       " 'above',\n",
       " 'after',\n",
       " 'again',\n",
       " 'against',\n",
       " 'ain',\n",
       " 'all',\n",
       " 'am',\n",
       " 'an',\n",
       " 'and',\n",
       " 'any',\n",
       " 'are',\n",
       " 'aren',\n",
       " \"aren't\",\n",
       " 'as',\n",
       " 'at',\n",
       " 'be',\n",
       " 'because',\n",
       " 'been',\n",
       " 'before',\n",
       " 'being',\n",
       " 'below',\n",
       " 'between',\n",
       " 'both',\n",
       " 'but',\n",
       " 'by',\n",
       " 'can',\n",
       " 'couldn',\n",
       " \"couldn't\",\n",
       " 'd',\n",
       " 'did',\n",
       " 'didn',\n",
       " \"didn't\",\n",
       " 'do',\n",
       " 'does',\n",
       " 'doesn',\n",
       " \"doesn't\",\n",
       " 'doing',\n",
       " 'don',\n",
       " \"don't\",\n",
       " 'down',\n",
       " 'during',\n",
       " 'each',\n",
       " 'few',\n",
       " 'for',\n",
       " 'from',\n",
       " 'further',\n",
       " 'had',\n",
       " 'hadn',\n",
       " \"hadn't\",\n",
       " 'has',\n",
       " 'hasn',\n",
       " \"hasn't\",\n",
       " 'have',\n",
       " 'haven',\n",
       " \"haven't\",\n",
       " 'having',\n",
       " 'he',\n",
       " \"he'd\",\n",
       " \"he'll\",\n",
       " \"he's\",\n",
       " 'her',\n",
       " 'here',\n",
       " 'hers',\n",
       " 'herself',\n",
       " 'him',\n",
       " 'himself',\n",
       " 'his',\n",
       " 'how',\n",
       " 'i',\n",
       " \"i'd\",\n",
       " \"i'll\",\n",
       " \"i'm\",\n",
       " \"i've\",\n",
       " 'if',\n",
       " 'in',\n",
       " 'into',\n",
       " 'is',\n",
       " 'isn',\n",
       " \"isn't\",\n",
       " 'it',\n",
       " \"it'd\",\n",
       " \"it'll\",\n",
       " \"it's\",\n",
       " 'its',\n",
       " 'itself',\n",
       " 'just',\n",
       " 'll',\n",
       " 'm',\n",
       " 'ma',\n",
       " 'me',\n",
       " 'mightn',\n",
       " \"mightn't\",\n",
       " 'more',\n",
       " 'most',\n",
       " 'mustn',\n",
       " \"mustn't\",\n",
       " 'my',\n",
       " 'myself',\n",
       " 'needn',\n",
       " \"needn't\",\n",
       " 'no',\n",
       " 'nor',\n",
       " 'not',\n",
       " 'now',\n",
       " 'o',\n",
       " 'of',\n",
       " 'off',\n",
       " 'on',\n",
       " 'once',\n",
       " 'only',\n",
       " 'or',\n",
       " 'other',\n",
       " 'our',\n",
       " 'ours',\n",
       " 'ourselves',\n",
       " 'out',\n",
       " 'over',\n",
       " 'own',\n",
       " 're',\n",
       " 's',\n",
       " 'same',\n",
       " 'shan',\n",
       " \"shan't\",\n",
       " 'she',\n",
       " \"she'd\",\n",
       " \"she'll\",\n",
       " \"she's\",\n",
       " 'should',\n",
       " \"should've\",\n",
       " 'shouldn',\n",
       " \"shouldn't\",\n",
       " 'so',\n",
       " 'some',\n",
       " 'such',\n",
       " 't',\n",
       " 'than',\n",
       " 'that',\n",
       " \"that'll\",\n",
       " 'the',\n",
       " 'their',\n",
       " 'theirs',\n",
       " 'them',\n",
       " 'themselves',\n",
       " 'then',\n",
       " 'there',\n",
       " 'these',\n",
       " 'they',\n",
       " \"they'd\",\n",
       " \"they'll\",\n",
       " \"they're\",\n",
       " \"they've\",\n",
       " 'this',\n",
       " 'those',\n",
       " 'through',\n",
       " 'to',\n",
       " 'too',\n",
       " 'under',\n",
       " 'until',\n",
       " 'up',\n",
       " 've',\n",
       " 'very',\n",
       " 'was',\n",
       " 'wasn',\n",
       " \"wasn't\",\n",
       " 'we',\n",
       " \"we'd\",\n",
       " \"we'll\",\n",
       " \"we're\",\n",
       " \"we've\",\n",
       " 'were',\n",
       " 'weren',\n",
       " \"weren't\",\n",
       " 'what',\n",
       " 'when',\n",
       " 'where',\n",
       " 'which',\n",
       " 'while',\n",
       " 'who',\n",
       " 'whom',\n",
       " 'why',\n",
       " 'will',\n",
       " 'with',\n",
       " 'won',\n",
       " \"won't\",\n",
       " 'wouldn',\n",
       " \"wouldn't\",\n",
       " 'y',\n",
       " 'you',\n",
       " \"you'd\",\n",
       " \"you'll\",\n",
       " \"you're\",\n",
       " \"you've\",\n",
       " 'your',\n",
       " 'yours',\n",
       " 'yourself',\n",
       " 'yourselves'}"
      ]
     },
     "execution_count": 12,
     "metadata": {},
     "output_type": "execute_result"
    }
   ],
   "source": [
    "# Get the list of English stop words\n",
    "stop_words = set(stopwords.words('english'))\n",
    "stop_words"
   ]
  },
  {
   "cell_type": "code",
   "execution_count": 14,
   "id": "4ce2e724",
   "metadata": {},
   "outputs": [],
   "source": [
    "def preprocess_text(text):\n",
    "    \"\"\"\n",
    "    Cleans and preprocesses a single text string.\n",
    "    1. Removes HTML tags\n",
    "    2. Lowercases text\n",
    "    3. Removes punctuation and numbers\n",
    "    4. Tokenizes text\n",
    "    5. Removes stop words\n",
    "    6. Lemmatizes words\n",
    "    \"\"\"\n",
    "    text = re.sub(r'<.*?>', '', text)\n",
    "    text = text.lower()\n",
    "    text = re.sub(r'[^a-z\\s]', '', text)\n",
    "    tokens = word_tokenize(text)\n",
    "    tokens = [word for word in tokens if word not in stop_words]\n",
    "    \n",
    "    # Lemmatization is often better than stemming\n",
    "    text = ' '.join(tokens)\n",
    "    doc = nlp(text)\n",
    "    lemmatized_tokens = [token.lemma_ for token in doc]\n",
    "    \n",
    "    return ' '.join(lemmatized_tokens)"
   ]
  },
  {
   "cell_type": "code",
   "execution_count": 15,
   "id": "f5fc641b",
   "metadata": {},
   "outputs": [
    {
     "name": "stdout",
     "output_type": "stream",
     "text": [
      "Preprocessing all 50,000 reviews\n",
      "Preprocessing complete!\n",
      "\n",
      "Comparing original and cleaned reviews:\n"
     ]
    },
    {
     "data": {
      "text/html": [
       "<div>\n",
       "<style scoped>\n",
       "    .dataframe tbody tr th:only-of-type {\n",
       "        vertical-align: middle;\n",
       "    }\n",
       "\n",
       "    .dataframe tbody tr th {\n",
       "        vertical-align: top;\n",
       "    }\n",
       "\n",
       "    .dataframe thead th {\n",
       "        text-align: right;\n",
       "    }\n",
       "</style>\n",
       "<table border=\"1\" class=\"dataframe\">\n",
       "  <thead>\n",
       "    <tr style=\"text-align: right;\">\n",
       "      <th></th>\n",
       "      <th>review</th>\n",
       "      <th>cleaned_review</th>\n",
       "    </tr>\n",
       "  </thead>\n",
       "  <tbody>\n",
       "    <tr>\n",
       "      <th>45680</th>\n",
       "      <td>I say Ben Johnson and my fellow Canadians say, \"Ben Johnson?!\" - he was a goddam MOVIE STAR guys, a COWBOY, and by 1976 he was scraping by playing a sheriff in stupid made for TV disaster movies such as this, cashing in on the DEADLY SWARMS OF KILLER BEES that everyone apparently thought were coming to get us at the time. So there's these bees, and they kill some people by flying in their mouth and going after them underwater. Eventually these idiots find the swarm and die and this woman is trapped in her car by the entire swarm. The cops are like, what do we do? Uh, bees die when it's cold. So where could we make it cold? I know - the stadium in New Orleans! So they drive this car and its attendant swarm of killer bees on and on through the streets of New Orleans, with a bullhorn saying \"GET OFF THE STREETS OR YOU WILL BE STUNG TO DEATH.\" And the future home of tens of thousands of flood victims with its broken toilets so becomes the narcotic doom of this particular buncha bees. I don't know which is the greater indignity on this great city...well I do, but this one sucks too. Most appropriately viewed on an extremely faded-to-orange 16mm print, although Betamax is a good alternative!</td>\n",
       "      <td>say ben johnson fellow canadians say ben johnson goddam movie star guy cowboy scrape play sheriff stupid make tv disaster movie cash deadly swarm killer bee everyone apparently think come get we time there s bee kill people fly mouth go underwater eventually idiot find swarm die woman trap car entire swarm cop like uh bee die cold could make cold know stadium new orleans drive car attendant swarm killer bee street new orleans bullhorn say get street sting death future home ten thousand flood victim break toilet become narcotic doom particular buncha bee do not know great indignity great citywell one suck appropriately view extremely fadedtoorange mm print although betamax good alternative</td>\n",
       "    </tr>\n",
       "    <tr>\n",
       "      <th>10131</th>\n",
       "      <td>Well, after the hype surrounding the film and after Surya labeling the film as PATH-BREAKING, I went into the theatre expecting something big. Boy was I disappointed. &lt;br /&gt;&lt;br /&gt;First of all, the characterizations in the film are SO weird! Which wife would do what Kundhavi (Jyothika) did? An idiotic, coo-coo one? And what was the point of her standing in the rain with her child (Baby Shreya) after she and her husband had a fight? What was the purpose of that scene anyway? To start a vulgarly shot \"Maaja Maaja\"? Not only was the song not canned aesthetically, it was just not needed in the screenplay. NOT NEEDED AT ALL! Secondly, the first half of the had practically NO STORY. The entire first half was a FREAKING drag. Every scene in the first half of the film had no significance what so ever to the real story of the film. And also, how did Aishwarya (Bhoomika Chawla) change so radically all of a sudden? And how did Gautham (Surya) and Kundhavi lead a happy live together after six years even though they were SO unhappy about marrying each other? And if Gautham did love Aishwarya like he claimed he did, why DID he even marry Kundhavi even if it was his uncle's death wish? WHY? That's the question you keep asking whilst watching the film! And how fair is the ending to Aishwarya? After all, she was Gautham's first wife? Krishna, the director of the film, claimed he worked on the script of this film for two years, but his script is filled with flaws and leaves the audience utterly irritated! Thirdly, Krishna's un-imaginative picturizations of Rahman's awesome is just disappointing. Surprisingly, Anthony's editing (usually superb) for the \"New York Nagaram\" song just sucks! The whole song looked like it was a slide show made on Microsoft Power Point! \"Munbe Vaa\" Rangoli chorus was wasted showing Gautham PLAYING FOOTBALL!!! Who wants to see the freaking dude playing football during such a beautiful chorus?!? Whats more, the whole movie only needed TWO songs. Munbe Vaa and Kummi Adi. The rest of the songs inclusive of \"Machakari\", \"Maaja Maaja\", \"New York\" and \"Jillunu Oru Kaadhal\" are just not needed. Rahman's fine efforts are simply wasted on a stupid film directed by an amateur director! Fans of Rahman, you ask why Rahman keeps moving to Bollywood. After looking at the way his songs are picturised in Kollywood, why would he want to stay here? What's more irritating is that after Krishna decided to include Machakari into the film, the song was cut by half which truly, truly annoyes.&lt;br /&gt;&lt;br /&gt;Surya looks handsome in his new get ups save the ones during the college scenes and packs in a so-and-so performance. His expressions during all the songs he was featured in really do not fit the way the singer sings the songs. Was Jyothika even acting in the film? All she did was CRY! Would you call all that crying acting? One of her worst performances ever! What's more, her new hairstyle does not suit her. She looked way better in Vettaiyaadu Vilaiyaadu. Her costumes during the \"New York Nagaram\" song are way off. Bhoomika Chawla is just gorgeous during the film and does justice to her role. Vadivelu's comedy is ANNOYING. When one is watching him, one wishes they could slap him on the face. It is Santhanam who is the show stealer during the comedy scenes. And why the heck did Sukanya even agree to do such a minuscule role which could have done by just anyone? And why is her make up so heavy when she has perfect complexion? Music by A.R. Rahman is just awesome. \"Machakari\", \"Munbe Vaa\", \"New York\" and \"Jillunu Oru Kaadhal\" deserve special mention. R.D. Rajasekhar's cinematography is OK and isn't as good as his previous films though the scenery during the \"Kummi Adi\" song deserve special mention. Anthony's editing is really really disappointing. The film is just so freaking draggy and could be trimmed severely.&lt;br /&gt;&lt;br /&gt;Krishna's direction just sucks. Dialogues (A.C. Durai and Krishna) are just too corny to digest especially the part where Bhoomika professes her love for Surya. The screenplay and script (Krishna) are horibble. The film moves in the more un-interesting pace ever. And Krishna's script is just filled with unexplained sub plots.&lt;br /&gt;&lt;br /&gt;And for goodness sakes, why was there so much advertising in the film? Pepsi, Maggi, Suzuki, you name it. Was the producer of the film (K.E. Gnanavel) low on budget or was he just desperate? Overall, Jillunu Oru Kaadhal is a damp squib. With a title like that, one would expect a heart warming and cooling love story but what you end up is a painfully botched up love story. Really, really disappointing.</td>\n",
       "      <td>well hype surround film surya labeling film pathbreaking go theatre expect something big boy disappoint first characterization film weird wife would kundhavi jyothika idiotic coocoo one point stand rain child baby shreya husband fight purpose scene anyway start vulgarly shoot maaja maaja song can aesthetically need screenplay need secondly first half practically story entire first half freak drag every scene first half film significance ever real story film also aishwarya bhoomika chawla change radically sudden gautham surya kundhavi lead happy live together six year even though unhappy marry gautham love aishwarya like claim even marry kundhavi even uncle death wish that s question keep ask whilst watch film fair end aishwarya gautham first wife krishna director film claim work script film two year script fill flaw leave audience utterly irritated thirdly krishna unimaginative picturization rahman awesome disappointing surprisingly anthony edit usually superb new york nagaram song suck whole song look like slide show make microsoft power point munbe vaa rangoli chorus waste show gautham playing football wants see freaking dude play football beautiful chorus what s whole movie need two song munbe vaa kummi adi rest song inclusive machakari maaja maaja new york jillunu oru kaadhal need rahman fine effort simply waste stupid film direct amateur director fan rahman ask rahman keep move bollywood look way song picturise kollywood would want stay what s irritate krishna decide include machakari film song cut half truly truly annoyessurya look handsome new get up save one college scene pack soandso performance expression song feature really fit way singer sing song jyothika even act film cry would call cry act one bad performance ever what s new hairstyle suit look way well vettaiyaadu vilaiyaadu costume new york nagaram song way bhoomika chawla gorgeous film justice role vadivelus comedy annoy one watch one wish could slap face santhanam show stealer comedy scene heck sukanya even agree minuscule role could do anyone make heavy perfect complexion music ar rahman awesome machakari munbe vaa new york jillunu oru kaadhal deserve special mention rd rajasekhar cinematography ok be not good previous film though scenery kummi adi song deserve special mention anthony edit really really disappointing film freak draggy could trim severelykrishnas direction suck dialogue ac durai krishna corny digest especially part bhoomika profess love surya screenplay script krishna horibble film move unintereste pace ever krishnas script fill unexplained sub plotsand goodness sake much advertising film pepsi maggi suzuki name producer film ke gnanavel low budget desperate overall jillunu oru kaadhal damp squib title like one would expect heart warm cool love story end painfully botch love story really really disappointing</td>\n",
       "    </tr>\n",
       "    <tr>\n",
       "      <th>20782</th>\n",
       "      <td>Most people who chase after movies featuring Audrey Tautou seem to not understand that Amelie was a character - it is not really Audrey Tautou's real life personality, hence, every movie she partakes in is not going to be Amelie part 2, part 3, etc.&lt;br /&gt;&lt;br /&gt;Now with that said, I too picked up this movie simply because Audrey was in it. Yes, it's true, there is a big gap after the first scene where she isn't seen at all for maybe 45 min, but I didn't even miss her because I was having so much fun with the other characters. The guy who lies about everything is too funny, the guy who justifies people who run out of his cafe and skip out on the bill by finding coupons and such which balance out the loss, actually.... getting into all the characters here could take quite a while, but this is one of the best movies I've seen in a while.&lt;br /&gt;&lt;br /&gt;Audrey Tautou's character Irene is not the overdone sugary girl that Amelie was. In fact, as Irene, her rudeness to a bum asking for change caught me off guard at first. In this film, Irene is a girl with good intentions, but over the course of a (very awful) day, her disposition becomes more and more sour and pessimistic.&lt;br /&gt;&lt;br /&gt;What makes this film completely great is you have all these really interesting stories and plots building... very entertaining to watch, great scenery and shots, very colorful and never too slow, and all of the characters can actually act. The best part of the movie comes with about 20 minutes left.... this is when all of the plots start to mesh together and the ride really picks up and everything ties together and makes sense, and the whole butterfly effect blossoms. I swear, it was the best 20 minutes of film I've seen in quite a while, and the ending.... It made me think \"damn I really lucked out finding this movie\". The ending to this movie is top notch. Whoever wrote the script for this is brilliant, because not only are there all these other subplots going on, but to somehow make them all tie in together (and in a sensible manner, which is the case here) but also to make each character feel human and come alive, not just some stale persona used as a crutch to build up this whole butterfly effect... very impressive.&lt;br /&gt;&lt;br /&gt;I highly suggest this movie as it's a great film to watch anytime, in any mood, with any company or alone.</td>\n",
       "      <td>people chase movie feature audrey tautou seem understand amelie character really audrey tautous real life personality hence every movie partake go amelie part part etcnow say pick movie simply audrey yes true big gap first scene be not see maybe min do not even miss much fun character guy lie everything funny guy justify people run cafe skip bill find coupon balance loss actually get character could take quite one good movie I ve see whileaudrey tautous character irene overdone sugary girl amelie fact irene rudeness bum ask change catch guard first film irene girl good intention course awful day disposition become sour pessimisticwhat make film completely great really interesting story plot build entertain watch great scenery shot colorful never slow character actually act good part movie come minute leave plot start mesh together ride really pick everything tie together make sense whole butterfly effect blossom swear good minute film I ve see quite end make think damn really lucke find movie end movie top notch whoever write script brilliant subplot going somehow make tie together sensible manner case also make character feel human come alive stale persona use crutch build whole butterfly effect impressivei highly suggest movie great film watch anytime mood company alone</td>\n",
       "    </tr>\n",
       "    <tr>\n",
       "      <th>28033</th>\n",
       "      <td>No spoilers here but I have been a fan since Waking the Dead started but the last series, of which only 3 have been on so far is awful. The stories bear no resemblance to the original idea of the series. I found these 3 in the last series jaw droppingly ludicrous. As a BBC licence payer, after the show I rang BBC complaints to pass on my disappointment. I'm amazed that actors of the calibre of Trevor Eve and Sue Johnstone didn't object to the story lines. These actors have been with these characters for 8 seasons, surly they can see it's lost all direction. It's a good job it is the last series or the next series may start with the team investigating the death of Father Christmas!&lt;br /&gt;&lt;br /&gt;Paul Bentley, West Yorkshire, England.</td>\n",
       "      <td>spoilers fan since wake dead start last series far awful story bear resemblance original idea series find last series jaw droppingly ludicrous bbc licence payer show rang bbc complaint pass disappointment I m amazed actors calibre trevor eve sue johnstone do not object story line actor character season surly see lose direction good job last series next series may start team investigate death father christmaspaul bentley west yorkshire england</td>\n",
       "    </tr>\n",
       "    <tr>\n",
       "      <th>56</th>\n",
       "      <td>The Hills Have Eyes II is what you would expect it to be and nothing more. Of course it's not going to be an Oscar nominated film, it's just pure entertainment which you can just lose yourself in for 90 minutes.&lt;br /&gt;&lt;br /&gt;The plot is basically about a group of National Guard trainees who find themselves battling against the notorious mutated hillbillies on their last day of training in the desert. It's just them fighting back throughout the whole film, which includes a lot of violence (which is basically the whole film) as blood and guts are constantly flying around throughout the whole thing, and also yet another graphic rape scene which is pointlessly thrown in to shock the audience.&lt;br /&gt;&lt;br /&gt;I'd give the Hills Have Eyes II 4 out of 10 for pure entertainment, and that only. Although even then I found myself looking at my watch more and more as the film went on, as it began to drag due to the fact it continued to try and shock the audience with graphic gore and the occasional jump scene just to make sure the audience stays awake. The Hills Have Eyes II is just decent entertainment, something to pass time if you're bored, and nothing else.&lt;br /&gt;&lt;br /&gt;4/10</td>\n",
       "      <td>hills eyes ii would expect nothing course go oscar nominate film pure entertainment lose minutesthe plot basically group national guard trainee find battle notorious mutate hillbilly last day training desert fight back throughout whole film include lot violence basically whole film blood gut constantly fly around throughout whole thing also yet another graphic rape scene pointlessly throw shock audienceid give hill eye ii pure entertainment although even find look watch film go begin drag due fact continue try shock audience graphic gore occasional jump scene make sure audience stay awake hills eyes ii decent entertainment something pass time you re bored nothing else</td>\n",
       "    </tr>\n",
       "  </tbody>\n",
       "</table>\n",
       "</div>"
      ],
      "text/plain": [
       "                                                                                                                                                                                                                                                                                                                                                                                                                                                                                                                                                                                                                                                                                                                                                                                                                                                                                                                                                                                                                                                                                                                                                                                                                                                                                                                                                                                                                                                                                                                                                                                                                                                                                                                                                                                                                                                                                                                                                                                                                                                                                                                                                                                                                                                                                                                                                                                                                                                                                                                                                                                                                                                                                                                                                                                                                                                                                                                                                                                                                                                                                                                                                                                                                                                                                                                                                                                                                                                                                                                                                                                                                                                                                                                                                                                                                                                                                                                                                                                                                                                                                                                                                                                                                                                                                                                                                                                                                                                                                                                                                                                                                                                                                                                                                                                                             review  \\\n",
       "45680                                                                                                                                                                                                                                                                                                                                                                                                                                                                                                                                                                                                                                                                                                                                                                                                                                                                                                                                                                                                                                                                                                                                                                                                                                                                                                                                                                                                                                                                                                                                                                                                                                                                                                                                                                                                                                                                                                                                                                                                                                                                                                                                                                                                                                                                                                                                                                                                                                                                                                                                                                                                                                                                                                                                                                                                                                                                                                                                                                                                                                                                                                                                                                                                                                                                                                                                                                                                                                                                                                                                                          I say Ben Johnson and my fellow Canadians say, \"Ben Johnson?!\" - he was a goddam MOVIE STAR guys, a COWBOY, and by 1976 he was scraping by playing a sheriff in stupid made for TV disaster movies such as this, cashing in on the DEADLY SWARMS OF KILLER BEES that everyone apparently thought were coming to get us at the time. So there's these bees, and they kill some people by flying in their mouth and going after them underwater. Eventually these idiots find the swarm and die and this woman is trapped in her car by the entire swarm. The cops are like, what do we do? Uh, bees die when it's cold. So where could we make it cold? I know - the stadium in New Orleans! So they drive this car and its attendant swarm of killer bees on and on through the streets of New Orleans, with a bullhorn saying \"GET OFF THE STREETS OR YOU WILL BE STUNG TO DEATH.\" And the future home of tens of thousands of flood victims with its broken toilets so becomes the narcotic doom of this particular buncha bees. I don't know which is the greater indignity on this great city...well I do, but this one sucks too. Most appropriately viewed on an extremely faded-to-orange 16mm print, although Betamax is a good alternative!   \n",
       "10131  Well, after the hype surrounding the film and after Surya labeling the film as PATH-BREAKING, I went into the theatre expecting something big. Boy was I disappointed. <br /><br />First of all, the characterizations in the film are SO weird! Which wife would do what Kundhavi (Jyothika) did? An idiotic, coo-coo one? And what was the point of her standing in the rain with her child (Baby Shreya) after she and her husband had a fight? What was the purpose of that scene anyway? To start a vulgarly shot \"Maaja Maaja\"? Not only was the song not canned aesthetically, it was just not needed in the screenplay. NOT NEEDED AT ALL! Secondly, the first half of the had practically NO STORY. The entire first half was a FREAKING drag. Every scene in the first half of the film had no significance what so ever to the real story of the film. And also, how did Aishwarya (Bhoomika Chawla) change so radically all of a sudden? And how did Gautham (Surya) and Kundhavi lead a happy live together after six years even though they were SO unhappy about marrying each other? And if Gautham did love Aishwarya like he claimed he did, why DID he even marry Kundhavi even if it was his uncle's death wish? WHY? That's the question you keep asking whilst watching the film! And how fair is the ending to Aishwarya? After all, she was Gautham's first wife? Krishna, the director of the film, claimed he worked on the script of this film for two years, but his script is filled with flaws and leaves the audience utterly irritated! Thirdly, Krishna's un-imaginative picturizations of Rahman's awesome is just disappointing. Surprisingly, Anthony's editing (usually superb) for the \"New York Nagaram\" song just sucks! The whole song looked like it was a slide show made on Microsoft Power Point! \"Munbe Vaa\" Rangoli chorus was wasted showing Gautham PLAYING FOOTBALL!!! Who wants to see the freaking dude playing football during such a beautiful chorus?!? Whats more, the whole movie only needed TWO songs. Munbe Vaa and Kummi Adi. The rest of the songs inclusive of \"Machakari\", \"Maaja Maaja\", \"New York\" and \"Jillunu Oru Kaadhal\" are just not needed. Rahman's fine efforts are simply wasted on a stupid film directed by an amateur director! Fans of Rahman, you ask why Rahman keeps moving to Bollywood. After looking at the way his songs are picturised in Kollywood, why would he want to stay here? What's more irritating is that after Krishna decided to include Machakari into the film, the song was cut by half which truly, truly annoyes.<br /><br />Surya looks handsome in his new get ups save the ones during the college scenes and packs in a so-and-so performance. His expressions during all the songs he was featured in really do not fit the way the singer sings the songs. Was Jyothika even acting in the film? All she did was CRY! Would you call all that crying acting? One of her worst performances ever! What's more, her new hairstyle does not suit her. She looked way better in Vettaiyaadu Vilaiyaadu. Her costumes during the \"New York Nagaram\" song are way off. Bhoomika Chawla is just gorgeous during the film and does justice to her role. Vadivelu's comedy is ANNOYING. When one is watching him, one wishes they could slap him on the face. It is Santhanam who is the show stealer during the comedy scenes. And why the heck did Sukanya even agree to do such a minuscule role which could have done by just anyone? And why is her make up so heavy when she has perfect complexion? Music by A.R. Rahman is just awesome. \"Machakari\", \"Munbe Vaa\", \"New York\" and \"Jillunu Oru Kaadhal\" deserve special mention. R.D. Rajasekhar's cinematography is OK and isn't as good as his previous films though the scenery during the \"Kummi Adi\" song deserve special mention. Anthony's editing is really really disappointing. The film is just so freaking draggy and could be trimmed severely.<br /><br />Krishna's direction just sucks. Dialogues (A.C. Durai and Krishna) are just too corny to digest especially the part where Bhoomika professes her love for Surya. The screenplay and script (Krishna) are horibble. The film moves in the more un-interesting pace ever. And Krishna's script is just filled with unexplained sub plots.<br /><br />And for goodness sakes, why was there so much advertising in the film? Pepsi, Maggi, Suzuki, you name it. Was the producer of the film (K.E. Gnanavel) low on budget or was he just desperate? Overall, Jillunu Oru Kaadhal is a damp squib. With a title like that, one would expect a heart warming and cooling love story but what you end up is a painfully botched up love story. Really, really disappointing.   \n",
       "20782                                                                                                                                                                                                                                                                                                                                                                                                                                                                                                                                                                                                                                                                                                                                                                                                                                                                                                                                                                                                                                                                                                                                                                                                                                                                                                                                                                                                                                                                                                                                                                                                                                                                                                                                                                                                                                                                                                                                                                                                                                                                                                                                                                                                                                                                                                                                                                   Most people who chase after movies featuring Audrey Tautou seem to not understand that Amelie was a character - it is not really Audrey Tautou's real life personality, hence, every movie she partakes in is not going to be Amelie part 2, part 3, etc.<br /><br />Now with that said, I too picked up this movie simply because Audrey was in it. Yes, it's true, there is a big gap after the first scene where she isn't seen at all for maybe 45 min, but I didn't even miss her because I was having so much fun with the other characters. The guy who lies about everything is too funny, the guy who justifies people who run out of his cafe and skip out on the bill by finding coupons and such which balance out the loss, actually.... getting into all the characters here could take quite a while, but this is one of the best movies I've seen in a while.<br /><br />Audrey Tautou's character Irene is not the overdone sugary girl that Amelie was. In fact, as Irene, her rudeness to a bum asking for change caught me off guard at first. In this film, Irene is a girl with good intentions, but over the course of a (very awful) day, her disposition becomes more and more sour and pessimistic.<br /><br />What makes this film completely great is you have all these really interesting stories and plots building... very entertaining to watch, great scenery and shots, very colorful and never too slow, and all of the characters can actually act. The best part of the movie comes with about 20 minutes left.... this is when all of the plots start to mesh together and the ride really picks up and everything ties together and makes sense, and the whole butterfly effect blossoms. I swear, it was the best 20 minutes of film I've seen in quite a while, and the ending.... It made me think \"damn I really lucked out finding this movie\". The ending to this movie is top notch. Whoever wrote the script for this is brilliant, because not only are there all these other subplots going on, but to somehow make them all tie in together (and in a sensible manner, which is the case here) but also to make each character feel human and come alive, not just some stale persona used as a crutch to build up this whole butterfly effect... very impressive.<br /><br />I highly suggest this movie as it's a great film to watch anytime, in any mood, with any company or alone.   \n",
       "28033                                                                                                                                                                                                                                                                                                                                                                                                                                                                                                                                                                                                                                                                                                                                                                                                                                                                                                                                                                                                                                                                                                                                                                                                                                                                                                                                                                                                                                                                                                                                                                                                                                                                                                                                                                                                                                                                                                                                                                                                                                                                                                                                                                                                                                                                                                                                                                                                                                                                                                                                                                                                                                                                                                                                                                                                                                                                                                                                                                                                                                                                                                                                                                                                                                                                                                                                                                                                                                                                                                                                                                                                                                                                                                                                                                                                                                                                                                                                                                                                                                           No spoilers here but I have been a fan since Waking the Dead started but the last series, of which only 3 have been on so far is awful. The stories bear no resemblance to the original idea of the series. I found these 3 in the last series jaw droppingly ludicrous. As a BBC licence payer, after the show I rang BBC complaints to pass on my disappointment. I'm amazed that actors of the calibre of Trevor Eve and Sue Johnstone didn't object to the story lines. These actors have been with these characters for 8 seasons, surly they can see it's lost all direction. It's a good job it is the last series or the next series may start with the team investigating the death of Father Christmas!<br /><br />Paul Bentley, West Yorkshire, England.   \n",
       "56                                                                                                                                                                                                                                                                                                                                                                                                                                                                                                                                                                                                                                                                                                                                                                                                                                                                                                                                                                                                                                                                                                                                                                                                                                                                                                                                                                                                                                                                                                                                                                                                                                                                                                                                                                                                                                                                                                                                                                                                                                                                                                                                                                                                                                                                                                                                                                                                                                                                                                                                                                                                                                                                                                                                                                                                                                                                                                                                                                                                                                                                                                                                                                                                                                                                                                                                                                                                                                                                                                                                                                                         The Hills Have Eyes II is what you would expect it to be and nothing more. Of course it's not going to be an Oscar nominated film, it's just pure entertainment which you can just lose yourself in for 90 minutes.<br /><br />The plot is basically about a group of National Guard trainees who find themselves battling against the notorious mutated hillbillies on their last day of training in the desert. It's just them fighting back throughout the whole film, which includes a lot of violence (which is basically the whole film) as blood and guts are constantly flying around throughout the whole thing, and also yet another graphic rape scene which is pointlessly thrown in to shock the audience.<br /><br />I'd give the Hills Have Eyes II 4 out of 10 for pure entertainment, and that only. Although even then I found myself looking at my watch more and more as the film went on, as it began to drag due to the fact it continued to try and shock the audience with graphic gore and the occasional jump scene just to make sure the audience stays awake. The Hills Have Eyes II is just decent entertainment, something to pass time if you're bored, and nothing else.<br /><br />4/10   \n",
       "\n",
       "                                                                                                                                                                                                                                                                                                                                                                                                                                                                                                                                                                                                                                                                                                                                                                                                                                                                                                                                                                                                                                                                                                                                                                                                                                                                                                                                                                                                                                                                                                                                                                                                                                                                                                                                                                                                                                                                                                                                                                                                                                                                                                                                                                                                                                                                                                                                                                                                                                                                                                                                                                                                                                                                                                                                                                                                                                                                                                                                                     cleaned_review  \n",
       "45680                                                                                                                                                                                                                                                                                                                                                                                                                                                                                                                                                                                                                                                                                                                                                                                                                                                                                                                                                                                                                                                                                                                                                                                                                                                                                                                                                                                                                                                                                                                                                                                                                                                                                                                                                                                                                                                                                                                                                                                                                                                                                                                                                                                                                                     say ben johnson fellow canadians say ben johnson goddam movie star guy cowboy scrape play sheriff stupid make tv disaster movie cash deadly swarm killer bee everyone apparently think come get we time there s bee kill people fly mouth go underwater eventually idiot find swarm die woman trap car entire swarm cop like uh bee die cold could make cold know stadium new orleans drive car attendant swarm killer bee street new orleans bullhorn say get street sting death future home ten thousand flood victim break toilet become narcotic doom particular buncha bee do not know great indignity great citywell one suck appropriately view extremely fadedtoorange mm print although betamax good alternative  \n",
       "10131  well hype surround film surya labeling film pathbreaking go theatre expect something big boy disappoint first characterization film weird wife would kundhavi jyothika idiotic coocoo one point stand rain child baby shreya husband fight purpose scene anyway start vulgarly shoot maaja maaja song can aesthetically need screenplay need secondly first half practically story entire first half freak drag every scene first half film significance ever real story film also aishwarya bhoomika chawla change radically sudden gautham surya kundhavi lead happy live together six year even though unhappy marry gautham love aishwarya like claim even marry kundhavi even uncle death wish that s question keep ask whilst watch film fair end aishwarya gautham first wife krishna director film claim work script film two year script fill flaw leave audience utterly irritated thirdly krishna unimaginative picturization rahman awesome disappointing surprisingly anthony edit usually superb new york nagaram song suck whole song look like slide show make microsoft power point munbe vaa rangoli chorus waste show gautham playing football wants see freaking dude play football beautiful chorus what s whole movie need two song munbe vaa kummi adi rest song inclusive machakari maaja maaja new york jillunu oru kaadhal need rahman fine effort simply waste stupid film direct amateur director fan rahman ask rahman keep move bollywood look way song picturise kollywood would want stay what s irritate krishna decide include machakari film song cut half truly truly annoyessurya look handsome new get up save one college scene pack soandso performance expression song feature really fit way singer sing song jyothika even act film cry would call cry act one bad performance ever what s new hairstyle suit look way well vettaiyaadu vilaiyaadu costume new york nagaram song way bhoomika chawla gorgeous film justice role vadivelus comedy annoy one watch one wish could slap face santhanam show stealer comedy scene heck sukanya even agree minuscule role could do anyone make heavy perfect complexion music ar rahman awesome machakari munbe vaa new york jillunu oru kaadhal deserve special mention rd rajasekhar cinematography ok be not good previous film though scenery kummi adi song deserve special mention anthony edit really really disappointing film freak draggy could trim severelykrishnas direction suck dialogue ac durai krishna corny digest especially part bhoomika profess love surya screenplay script krishna horibble film move unintereste pace ever krishnas script fill unexplained sub plotsand goodness sake much advertising film pepsi maggi suzuki name producer film ke gnanavel low budget desperate overall jillunu oru kaadhal damp squib title like one would expect heart warm cool love story end painfully botch love story really really disappointing  \n",
       "20782                                                                                                                                                                                                                                                                                                                                                                                                                                                                                                                                                                                                                                                                                                                                                                                                                                                                                                                                                                                                                                                                                                                                                                                                                                                                                                                                                                                                                                                                                                                                                                                                                  people chase movie feature audrey tautou seem understand amelie character really audrey tautous real life personality hence every movie partake go amelie part part etcnow say pick movie simply audrey yes true big gap first scene be not see maybe min do not even miss much fun character guy lie everything funny guy justify people run cafe skip bill find coupon balance loss actually get character could take quite one good movie I ve see whileaudrey tautous character irene overdone sugary girl amelie fact irene rudeness bum ask change catch guard first film irene girl good intention course awful day disposition become sour pessimisticwhat make film completely great really interesting story plot build entertain watch great scenery shot colorful never slow character actually act good part movie come minute leave plot start mesh together ride really pick everything tie together make sense whole butterfly effect blossom swear good minute film I ve see quite end make think damn really lucke find movie end movie top notch whoever write script brilliant subplot going somehow make tie together sensible manner case also make character feel human come alive stale persona use crutch build whole butterfly effect impressivei highly suggest movie great film watch anytime mood company alone  \n",
       "28033                                                                                                                                                                                                                                                                                                                                                                                                                                                                                                                                                                                                                                                                                                                                                                                                                                                                                                                                                                                                                                                                                                                                                                                                                                                                                                                                                                                                                                                                                                                                                                                                                                                                                                                                                                                                                                                                                                                                                                                                                                                                                                                                                                                                                                                                                                                                                                                                                                                                                                spoilers fan since wake dead start last series far awful story bear resemblance original idea series find last series jaw droppingly ludicrous bbc licence payer show rang bbc complaint pass disappointment I m amazed actors calibre trevor eve sue johnstone do not object story line actor character season surly see lose direction good job last series next series may start team investigate death father christmaspaul bentley west yorkshire england  \n",
       "56                                                                                                                                                                                                                                                                                                                                                                                                                                                                                                                                                                                                                                                                                                                                                                                                                                                                                                                                                                                                                                                                                                                                                                                                                                                                                                                                                                                                                                                                                                                                                                                                                                                                                                                                                                                                                                                                                                                                                                                                                                                                                                                                                                                                                                                             hills eyes ii would expect nothing course go oscar nominate film pure entertainment lose minutesthe plot basically group national guard trainee find battle notorious mutate hillbilly last day training desert fight back throughout whole film include lot violence basically whole film blood gut constantly fly around throughout whole thing also yet another graphic rape scene pointlessly throw shock audienceid give hill eye ii pure entertainment although even find look watch film go begin drag due fact continue try shock audience graphic gore occasional jump scene make sure audience stay awake hills eyes ii decent entertainment something pass time you re bored nothing else  "
      ]
     },
     "metadata": {},
     "output_type": "display_data"
    }
   ],
   "source": [
    "print(\"Preprocessing all 50,000 reviews\")\n",
    "df = df.sample(500).copy() #Use .copy() to avoid Setting With Copy Warning\n",
    "df['cleaned_review'] = df['review'].apply(preprocess_text)\n",
    "print(\"Preprocessing complete!\")\n",
    "\n",
    "#Display a comparison of the original and cleaned reviews\n",
    "print(\"\\nComparing original and cleaned reviews:\")\n",
    "display(df[['review', 'cleaned_review']].head())\n"
   ]
  },
  {
   "cell_type": "code",
   "execution_count": 16,
   "id": "25c611f1",
   "metadata": {},
   "outputs": [
    {
     "name": "stdout",
     "output_type": "stream",
     "text": [
      "Training set size: 400\n",
      "Testing set size: 100\n"
     ]
    }
   ],
   "source": [
    "from sklearn.model_selection import train_test_split\n",
    "\n",
    "# Map sentiment labels to numerical values\n",
    "df['sentiment_numeric'] = df['sentiment'].map({'positive': 1, 'negative': 0})\n",
    "\n",
    "#Define our features (X) and target (Y)\n",
    "X = df['cleaned_review']\n",
    "y = df['sentiment_numeric']\n",
    "\n",
    "#Split the data into training and testing sets (80% training, 20% testing)\n",
    "#stratify=y ensures that the training and testing sets have the same distribution of sentiment labels\n",
    "X_train, X_test, y_train, y_test = train_test_split(X, y, test_size=0.2, random_state=42, stratify=y)\n",
    "\n",
    "print (f\"Training set size: {len(X_train)}\")\n",
    "print (f\"Testing set size: {len(X_test)}\")\n"
   ]
  },
  {
   "cell_type": "code",
   "execution_count": 17,
   "id": "c8feadc0",
   "metadata": {},
   "outputs": [
    {
     "name": "stdout",
     "output_type": "stream",
     "text": [
      "Shape of the training TF-IDF matrix: (400, 5000)\n",
      "Shape of the testing TF-IDF matrix: (100, 5000)\n"
     ]
    }
   ],
   "source": [
    "from sklearn.feature_extraction.text import TfidfVectorizer\n",
    "\n",
    "# Initialize the TF-IDF Vectorizer\n",
    "# max_features=5000 means we only use the 5000 most common words, which is efficient\n",
    "tfidf = TfidfVectorizer(max_features=5000)\n",
    "\n",
    "# Fit the vectorizer on the training data and transform it\n",
    "X_train_tfidf = tfidf.fit_transform(X_train)\n",
    "\n",
    "# ONLY transform the test data using the already-fitted vectorizer\n",
    "X_test_tfidf = tfidf.transform(X_test)\n",
    "\n",
    "print(f\"Shape of the training TF-IDF matrix: {X_train_tfidf.shape}\")\n",
    "print(f\"Shape of the testing TF-IDF matrix: {X_test_tfidf.shape}\")"
   ]
  },
  {
   "cell_type": "code",
   "execution_count": null,
   "id": "11df817d",
   "metadata": {},
   "outputs": [
    {
     "name": "stdout",
     "output_type": "stream",
     "text": [
      "Model training complete!\n"
     ]
    }
   ],
   "source": [
    "from sklearn.linear_model import LogisticRegression\n",
    "\n",
    "# Initialize and train the model\n",
    "# solver='liblinear' is a good choice for this type of problem\n",
    "model = LogisticRegression(solver='liblinear')\n",
    "model.fit(X_train_tfidf, y_train)\n",
    "\n",
    "print(\"Model training complete!\")"
   ]
  },
  {
   "cell_type": "code",
   "execution_count": 19,
   "id": "02e58b2d",
   "metadata": {},
   "outputs": [
    {
     "name": "stdout",
     "output_type": "stream",
     "text": [
      "Review: 'This movie was absolutely fantastic! The acting was superb and the plot was gripping.'\n",
      "Predicted Sentiment: Positive\n",
      "\n",
      "Review: 'I was so bored throughout the entire film. It was a complete waste of time and money.'\n",
      "Predicted Sentiment: Negative\n",
      "\n",
      "Review: 'The film was okay, not great but not terrible either. Some parts were good.'\n",
      "Predicted Sentiment: Positive\n",
      "\n"
     ]
    }
   ],
   "source": [
    "def predict_sentiment(text):\n",
    "    \"\"\"\n",
    "    Takes a raw text string and predicts its sentiment using the trained model.\n",
    "    \"\"\"\n",
    "    # 1. Preprocess the text using the same function from Cell 2\n",
    "    cleaned_text = preprocess_text(text)\n",
    "    \n",
    "    # 2. Vectorize the text using the SAME fitted TF-IDF vectorizer from Cell 5\n",
    "    vectorized_text = tfidf.transform([cleaned_text])\n",
    "    \n",
    "    # 3. Predict using the trained model from Cell 6\n",
    "    prediction = model.predict(vectorized_text)\n",
    "    \n",
    "    # 4. Return the human-readable result\n",
    "    return 'Positive' if prediction[0] == 1 else 'Negative'\n",
    "\n",
    "# --- Test Cases ---\n",
    "review_1 = \"This movie was absolutely fantastic! The acting was superb and the plot was gripping.\"\n",
    "review_2 = \"I was so bored throughout the entire film. It was a complete waste of time and money.\"\n",
    "review_3 = \"The film was okay, not great but not terrible either. Some parts were good.\"\n",
    "\n",
    "print(f\"Review: '{review_1}'\\nPredicted Sentiment: {predict_sentiment(review_1)}\\n\")\n",
    "print(f\"Review: '{review_2}'\\nPredicted Sentiment: {predict_sentiment(review_2)}\\n\")\n",
    "print(f\"Review: '{review_3}'\\nPredicted Sentiment: {predict_sentiment(review_3)}\\n\")"
   ]
  },
  {
   "cell_type": "code",
   "execution_count": null,
   "id": "a1bc416f",
   "metadata": {},
   "outputs": [
    {
     "name": "stdout",
     "output_type": "stream",
     "text": [
      "Model Accuracy: 0.8000\n",
      "\n",
      "Classification Report:\n",
      "              precision    recall  f1-score   support\n",
      "\n",
      "    Negative       0.81      0.78      0.80        50\n",
      "    Positive       0.79      0.82      0.80        50\n",
      "\n",
      "    accuracy                           0.80       100\n",
      "   macro avg       0.80      0.80      0.80       100\n",
      "weighted avg       0.80      0.80      0.80       100\n",
      "\n"
     ]
    },
    {
     "data": {
      "image/png": "[encoded data removed]",
      "text/plain": [
       "<Figure size 600x500 with 2 Axes>"
      ]
     },
     "metadata": {},
     "output_type": "display_data"
    }
   ],
   "source": [
    "from sklearn.metrics import accuracy_score, classification_report, confusion_matrix\n",
    "import matplotlib.pyplot as pltfrom sklearn.feature_extraction.text import TfidfVectorizer\n",
    "\n",
    "# Initialize the TF-IDF Vectorizer\n",
    "# max_features=5000 means we only use the 5000 most common words, which is efficient\n",
    "tfidf = TfidfVectorizer(max_features=5000)\n",
    "\n",
    "# Fit the vectorizer on the training data and transform it\n",
    "X_train_tfidf = tfidf.fit_transform(X_train)\n",
    "\n",
    "# ONLY transform the test data using the already-fitted vectorizer\n",
    "X_test_tfidf = tfidf.transform(X_test)\n",
    "\n",
    "print(f\"Shape of the training TF-IDF matrix: {X_train_tfidf.shape}\")\n",
    "print(f\"Shape of the testing TF-IDF matrix: {X_test_tfidf.shape}\")\n",
    "import seaborn as sns\n",
    "\n",
    "# Make predictions on the test set\n",
    "y_pred = model.predict(X_test_tfidf)\n",
    "\n",
    "# Calculate accuracy\n",
    "accuracy = accuracy_score(y_test, y_pred)\n",
    "print(f\"Model Accuracy: {accuracy:.4f}\")\n",
    "\n",
    "# Print the detailed classification report\n",
    "print(\"\\nClassification Report:\")\n",
    "print(classification_report(y_test, y_pred, target_names=['Negative', 'Positive']))\n",
    "\n",
    "# Plot the confusion matrix\n",
    "cm = confusion_matrix(y_test, y_pred)\n",
    "plt.figure(figsize=(6, 5))\n",
    "sns.heatmap(cm, annot=True, fmt='d', cmap='Blues', \n",
    "            xticklabels=['Negative', 'Positive'], \n",
    "            yticklabels=['Negative', 'Positive'])\n",
    "plt.xlabel('Predicted Label')\n",
    "plt.ylabel('True Label')\n",
    "plt.title('Confusion Matrix')\n",
    "plt.show()"
   ]
  }
 ],
 "metadata": {
  "kernelspec": {
   "display_name": "venv",
   "language": "python",
   "name": "python3"
  },
  "language_info": {
   "codemirror_mode": {
    "name": "ipython",
    "version": 3
   },
   "file_extension": ".py",
   "mimetype": "text/x-python",
   "name": "python",
   "nbconvert_exporter": "python",
   "pygments_lexer": "ipython3",
   "version": "3.12.3"
  }
 },
 "nbformat": 4,
 "nbformat_minor": 5
}
